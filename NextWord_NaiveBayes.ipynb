{
 "cells": [
  {
   "cell_type": "markdown",
   "metadata": {},
   "source": [
    "# 朴素贝叶斯迷你项目\n",
    "想象你的老板从一个信号很差的地方给你留了条消息。有几个词根本听不清。你想基于他以前给你留的一些消息的录音，填补这些剩下的词。为此，给定一些额外的消息信息，我们将使用贝叶斯公式来计算给定单词正好能填入留白处的概率。  \n",
    "回想贝叶斯公式：  \n",
    "$$P(A|B)=P(B|A)*P(A)/P(B)$$\n",
    "或者在我们这个案例中：  \n",
    "$$P(某个特定词|前后文的词)=P(前后文的词|某个特定的词)*P(某个特定的词)/P(前后文的词)$$"
   ]
  },
  {
   "cell_type": "markdown",
   "metadata": {},
   "source": [
    "### 1. 最大可能性假设\n",
    "\n",
    "在这个练习中我们要根据前面一个单词，找出哪个单词最有可能跟在它后面  \n",
    "\n",
    "实现 NextWordProbability 使得你可以传入一段话，一个词，返回一个字典。这个字典的键（keys）是出现在这个词后面的词，每个键（key）的值（value）是跟在后面这个词出现的次数。  \n",
    "\n",
    "你可以用 .split() 方法来把 sample_memo 这段话中的词用空格分割开来。"
   ]
  },
  {
   "cell_type": "code",
   "execution_count": 64,
   "metadata": {
    "collapsed": true
   },
   "outputs": [],
   "source": [
    "sample_memo = '''\n",
    "Milt, we're gonna need to go ahead and move you downstairs into storage B. We have some new people coming in, and we need all the space we can get. So if you could just go ahead and pack up your stuff and move it down there, that would be terrific, OK?\n",
    "Oh, and remember: next Friday... is Hawaiian shirt day. So, you know, if you want to, go ahead and wear a Hawaiian shirt and jeans.\n",
    "Oh, oh, and I almost forgot. Ahh, I'm also gonna need you to go ahead and come in on Sunday, too...\n",
    "Hello Peter, whats happening? Ummm, I'm gonna need you to go ahead and come in tomorrow. So if you could be here around 9 that would be great, mmmk... oh oh! and I almost forgot ahh, I'm also gonna need you to go ahead and come in on Sunday too, kay. We ahh lost some people this week and ah, we sorta need to play catch up.\n",
    "'''\n",
    "#\n",
    "#   Maximum Likelihood Hypothesis\n",
    "#\n",
    "#\n",
    "#   In this quiz we will find the maximum likelihood word based on the preceding word\n",
    "#\n",
    "#   Fill in the NextWordProbability procedure so that it takes in sample text and a word,\n",
    "#   and returns a dictionary with keys the set of words that come after, whose values are\n",
    "#   the number of times the key comes after that word.\n",
    "#   \n",
    "#   Just use .split() to split the sample_memo text into words separated by spaces.\n",
    "\n",
    "def NextWordProbability(sampletext,word):\n",
    "    sample_words=sampletext.split()\n",
    "    times=CountWordTimes(sample_words,word)\n",
    "    dic={}\n",
    "    for index in range(len(sample_words)):\n",
    "        if sample_words[index]==word and index < len(sample_words):\n",
    "            key=sample_words[index+1]\n",
    "            if key in dic.keys():\n",
    "                dic[key]+=1\n",
    "            else:\n",
    "                dic[key]=1\n",
    "    final={}\n",
    "    for i in dic.keys():\n",
    "        final[i]=float(dic[i])/times\n",
    "    return final\n",
    "    \n",
    "def CountWordTimes(sample,word):\n",
    "    time=0\n",
    "    for item in sample:\n",
    "        if item == word:\n",
    "            time += 1\n",
    "    return time"
   ]
  },
  {
   "cell_type": "code",
   "execution_count": 51,
   "metadata": {},
   "outputs": [
    {
     "name": "stdout",
     "output_type": "stream",
     "text": [
      "{'to': 0.3333333333333333, 'all': 0.16666666666666666, 'you': 0.5}\n"
     ]
    },
    {
     "data": {
      "text/plain": [
       "0.5"
      ]
     },
     "execution_count": 51,
     "metadata": {},
     "output_type": "execute_result"
    }
   ],
   "source": [
    "# 例子\n",
    "dic1=NextWordProbability(sample_memo,'need')\n",
    "print(dic1)\n",
    "# 返回值最大对应的key\n",
    "max(dic1.items(),key=lambda x:x[1])[0]\n",
    "# 或者\n",
    "max(dic1,key=dic1.get)"
   ]
  },
  {
   "cell_type": "markdown",
   "metadata": {},
   "source": [
    "### 2. 最佳贝叶斯分类器\n",
    "#### 2.1 小练习\n",
    "在这个测验中，我们将根据一行中可能出现在第一个空格中的单词来计算第二个缺词的最佳标号。  \n",
    "'for--- ---'单词For后缺失两个单词，已知：  \n",
    "P('for this'|'for--- ---')=0.4;  \n",
    "P('for that'|'for--- ---')=0.3;  \n",
    "P('for those'|'for--- ---')=0.3;   \n",
    "  \n",
    "P('this time'|'this--- ---')=0.6,P('this job'|'this--- ---')=0.4;  \n",
    "P('that job'|'that--- ---')=0.8,P('that time'|'that--- ---')=0.2;  \n",
    "P('those items'|'those--- ---')=1.  \n",
    "#### 问：你预测在第二个空格应该填什么词？概率是多少？\n",
    "'time': 0.4*0.6+0.3*0.2=0.3;  \n",
    "'job': 0.4*0.4+0.3*0.8=0.4;  \n",
    "'items': 0.3*1=0.3;  \n",
    "第二个空格应该填'job'，概率为0.4.\n",
    "#### 2.2 实例编程"
   ]
  },
  {
   "cell_type": "code",
   "execution_count": 66,
   "metadata": {},
   "outputs": [
    {
     "name": "stdout",
     "output_type": "stream",
     "text": [
      "in\n"
     ]
    }
   ],
   "source": [
    "corrupted_memo = '''\n",
    "Yeah, I'm gonna --- you to go ahead --- --- complain about this. Oh, and if you could --- --- and sit at the kids' table, that'd be --- \n",
    "'''\n",
    "data_list = sample_memo.strip().split()\n",
    "words_to_guess = [\"ahead\",\"could\"]\n",
    "def LaterWords(sample,word,distance):\n",
    "    '''@param sample: a sample of text to draw from\n",
    "    @param word: a word occuring before a corrupted sequence\n",
    "    @param distance: how many words later to estimate (i.e. 1 for the next word, 2 for the word after that)\n",
    "    @returns: a single word which is the most likely possibility\n",
    "    '''\n",
    "    \n",
    "    # TODO: Given a word, collect the relative probabilities of possible following words\n",
    "    # from @sample. You may want to import your code from the maximum likelihood exercise.\n",
    "    newdic1=NextWordProbability(sample,word)\n",
    "    dic={}\n",
    "    for key1 in newdic1:\n",
    "        newdic2=NextWordProbability(sample,key1)\n",
    "        for key2 in newdic2:\n",
    "            newdic2[key2]=newdic2[key2]*newdic1[key1]\n",
    "            if key2 in dic:\n",
    "                dic.setdefault(key2,dic[key2]+newdic2[key2])\n",
    "            else:\n",
    "                dic.setdefault(key2,newdic2[key2])\n",
    "    ret=max(dic,key=dic.get) #等价于 max(dic1.items(),key=lambda x:x[1])[0] \n",
    "    # TODO: Repeat the above process--for each distance beyond 1, evaluate the words that\n",
    "    # might come after each word, and combine them weighting by relative probability\n",
    "    # into an estimate of what might appear next.\n",
    "    \n",
    "    return ret\n",
    "   \n",
    "print(LaterWords(sample_memo,\"and\",2))"
   ]
  },
  {
   "cell_type": "code",
   "execution_count": null,
   "metadata": {
    "collapsed": true
   },
   "outputs": [],
   "source": []
  }
 ],
 "metadata": {
  "kernelspec": {
   "display_name": "Python 3",
   "language": "python",
   "name": "python3"
  },
  "language_info": {
   "codemirror_mode": {
    "name": "ipython",
    "version": 3
   },
   "file_extension": ".py",
   "mimetype": "text/x-python",
   "name": "python",
   "nbconvert_exporter": "python",
   "pygments_lexer": "ipython3",
   "version": "3.5.3"
  }
 },
 "nbformat": 4,
 "nbformat_minor": 2
}
