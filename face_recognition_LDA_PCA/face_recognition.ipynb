{
 "cells": [
  {
   "cell_type": "markdown",
   "metadata": {},
   "source": [
    "# 人脸识别\n",
    "这个练习的目的是利用主成分分析（PCA）和线性判别分析（LDA）进行人脸识别的图像。在编码前先阅读所有指令。"
   ]
  },
  {
   "cell_type": "markdown",
   "metadata": {},
   "source": [
    "## 1. 导入数据  \n",
    "下载face.zip并从face.zip提取图像。你会发现一些人脸图像来自CMU PIE数据库。这里有10个人，每个人在24种不同的照明条件下拍摄，共有240幅图像。为了方便起见，这些图像在训练和测试目录中被分成两个相等的集合。  \n",
    "图像的文件名ppppp_xx_yy.bmp，这里ppppp表示人的身份；xx表示头部方向（所有的都是正面的（xx = 27）在这个练习中）; YY表示照明条件。所有图像都被裁剪并对齐，它们的高度、宽度分别为160和140像素。"
   ]
  },
  {
   "cell_type": "markdown",
   "metadata": {},
   "source": [
    "## 2. 特征提取  \n",
    "特征提取在人脸识别中起着重要作用。好的特性应该能够区分不同的用户。在这部分中，您将学习如何提取PCA特征和LDA特征。  \n",
    " PCA \n",
    "这部分将指导您从图像的训练集学习PCA特征提取器。您还将学习如何用图像提取器提取PCA特征。  \n",
    "在FisherFace.py学习的代码。使用这些函数的PCA特征提取：mypca，阅读面。他们的目的是在代码中描述的。遵照指示：  \n",
    "1. 读取数据。通过将参数设置为训练文件夹的路径，使用read_faces读取所有训练图像。现在你应该有一个$22400\\times120$的脸矩阵，它的列是训练目录中所有的人脸图像，以及相应的标签范围从0到9。  \n",
    "2. 训练PCA。使用mypca函数，计算PCA投影矩阵$W$，全局均值向量$m_e$和特征值向量。学习代码- mypca，理解这是如何实现的。特别是，注意内积技巧的使用避免出现“内存不足”错误。    \n",
    "3. 选择的特征维度。只保留前$K(K=30)$特征脸，通过公式$ W_e = W[:,:K]$  \n",
    "4. 投影图像。对于一个人脸图像x，通过公式$y = W_e^T(x-m_e)$将它投影到PCA空间中。y是x的PCA特征表示。 \n",
    "5. 反向投影PCA特征。众所周知，PCA也经常被用作降维方法。所以我们可以在已学习的PCA空间由特征向量y重建图像x：$x = W_ey+m_e$。"
   ]
  },
  {
   "cell_type": "code",
   "execution_count": null,
   "metadata": {
    "collapsed": true
   },
   "outputs": [],
   "source": [
    "def myPCA(A):\n",
    "    # function [W,LL,m]=mypca(A)\n",
    "    # computes PCA of matrix A\n",
    "    # A: D by N data matrix. Each column is a random vector\n",
    "    # W: D by K matrix whose columns are the principal components in\n",
    "    # decreasing order\n",
    "    # LL: eigenvalues\n",
    "    # m: mean of columns of A\n",
    "    \n",
    "    # Note: 'lambda' is a Python reserved word\n",
    "    \n",
    "    # compute mean, and substract mean from every column\n",
    "    [r,c] = A.shape\n",
    "    m = np.mean(A,1)\n",
    "    A = A - np.tile(m,(c,1)).T\n",
    "    B = np.dot(A.T, A)\n",
    "    [d, v] = linalg.eig(B)\n",
    "    \n",
    "    # sort d in descending order\n",
    "    order_index = np.argsort(d)\n",
    "    order_index = order_index[::-1]\n",
    "    d = d[order_index]\n",
    "    v = v[:,order_index]\n",
    "    \n",
    "    # compute eigenvectors of scatter matrix\n",
    "    W = np.dot(A,v)\n",
    "    Wnorm = ComputeNorm(W)\n",
    "    \n",
    "    W1 = np.tile(Wnorm, (r,1))\n",
    "    W2 = W/W1\n",
    "    \n",
    "    LL = d[0:-1]\n",
    "    \n",
    "    W = W2[:,0:1]\n",
    "    \n",
    "    return W,LL,m "
   ]
  },
  {
   "cell_type": "code",
   "execution_count": 3,
   "metadata": {
    "collapsed": true
   },
   "outputs": [],
   "source": [
    "import os\n",
    "import numpy as np\n",
    "import scipy.linalg as linalg\n",
    "import cv2\n",
    "import operator\n",
    "\n",
    "def ComputerNorm(x):\n",
    "    # function r=ComputerNorm(x)\n",
    "    # computes vector norms of x\n",
    "    # x : d x m matrix, each column a vector\n",
    "    # r : 1 x m matrix, each the corresponding norm (L2)\n",
    "    [row, col] = x.shape\n",
    "    r = np.zeros((1,col))\n",
    "    \n",
    "    for i in range(col):\n",
    "        r[0,i] = linalg.norm(x[:,i])\n",
    "    return r  \n",
    "\n",
    "def myLDA(A, Labels):\n",
    "    # function [W,m] = myLDA(A, Label)\n",
    "    # computes LDA of matrix A\n",
    "    # A: D by N data matrix. Each column is a random vector. \n",
    "    # W: D by K matrix whose columns are the principal components in\n",
    "    # decreasing order\n",
    "    # m: mean of each projection\n",
    "    classLabels = np.unique(Labels)\n",
    "    classNum = len(classLabels)\n",
    "    dim, datanum = A.shape\n",
    "    totalMean = np.mean(A,1)\n",
    "    partition = [np.where(Labels == label)[0] for label in classLabels]\n",
    "    classMean = [(np.mean(A[:,idx],1),len(idx)) for idx in partition]\n",
    "    \n",
    "    # compute the within-class scatter matrix\n",
    "    W = np.zeros((dim,dim))\n",
    "    for idx in partition:\n",
    "        W += np.cov(A[:,idx],rowvar = 1)*len(idx)\n",
    "        \n",
    "    # compute the between-class scatter matrix\n",
    "    B = np.zeros((dim,dim))\n",
    "    for mu, class_size in classMean:\n",
    "        offset = mu - totalMean\n",
    "        B += np.outer(offset, offset)*class_size\n",
    "    \n",
    "    \n",
    "def read_faces(directory):\n",
    "    # function faces = read_faces(directory)\n",
    "    # Browse the directory, read image files and store faces in a matrix\n",
    "    # faces: face matrix in which each column is a column vector for 1 face image\n",
    "    # idLabels: corresponding ids for face matrix\n",
    "    \n",
    "    A = [] # A will store list of image vectors\n",
    "    Label = [] # Label will store list of identity label\n",
    "    "
   ]
  },
  {
   "cell_type": "code",
   "execution_count": 27,
   "metadata": {
    "collapsed": true
   },
   "outputs": [],
   "source": [
    "Labels = np.array([1,1,2,2,4,4,3,2,1,4])"
   ]
  },
  {
   "cell_type": "code",
   "execution_count": 29,
   "metadata": {},
   "outputs": [
    {
     "data": {
      "text/plain": [
       "array([1, 2, 3, 4])"
      ]
     },
     "execution_count": 29,
     "metadata": {},
     "output_type": "execute_result"
    }
   ],
   "source": [
    "classLabels = np.unique(Labels)\n",
    "classLabels"
   ]
  },
  {
   "cell_type": "code",
   "execution_count": 31,
   "metadata": {},
   "outputs": [
    {
     "data": {
      "text/plain": [
       "4"
      ]
     },
     "execution_count": 31,
     "metadata": {},
     "output_type": "execute_result"
    }
   ],
   "source": [
    "classNum = len(classLabels)\n",
    "classNum "
   ]
  },
  {
   "cell_type": "code",
   "execution_count": null,
   "metadata": {
    "collapsed": true
   },
   "outputs": [],
   "source": []
  }
 ],
 "metadata": {
  "kernelspec": {
   "display_name": "Python [conda root]",
   "language": "python",
   "name": "conda-root-py"
  },
  "language_info": {
   "codemirror_mode": {
    "name": "ipython",
    "version": 3
   },
   "file_extension": ".py",
   "mimetype": "text/x-python",
   "name": "python",
   "nbconvert_exporter": "python",
   "pygments_lexer": "ipython3",
   "version": "3.5.3"
  }
 },
 "nbformat": 4,
 "nbformat_minor": 2
}
